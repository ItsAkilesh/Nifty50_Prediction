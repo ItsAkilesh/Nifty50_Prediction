{
 "cells": [
  {
   "cell_type": "code",
   "execution_count": 1,
   "metadata": {},
   "outputs": [],
   "source": [
    "import yfinance as yf\n",
    "import pandas as pd\n",
    "from sklearn.model_selection import train_test_split\n",
    "from sklearn.preprocessing import MinMaxScaler\n",
    "import matplotlib.pyplot as plt\n",
    "import numpy as np\n"
   ]
  },
  {
   "cell_type": "code",
   "execution_count": 2,
   "metadata": {},
   "outputs": [
    {
     "name": "stdout",
     "output_type": "stream",
     "text": [
      "[*********************100%***********************]  1 of 1 completed\n"
     ]
    },
    {
     "data": {
      "text/html": [
       "<div>\n",
       "<style scoped>\n",
       "    .dataframe tbody tr th:only-of-type {\n",
       "        vertical-align: middle;\n",
       "    }\n",
       "\n",
       "    .dataframe tbody tr th {\n",
       "        vertical-align: top;\n",
       "    }\n",
       "\n",
       "    .dataframe thead th {\n",
       "        text-align: right;\n",
       "    }\n",
       "</style>\n",
       "<table border=\"1\" class=\"dataframe\">\n",
       "  <thead>\n",
       "    <tr style=\"text-align: right;\">\n",
       "      <th></th>\n",
       "      <th>Open</th>\n",
       "      <th>High</th>\n",
       "      <th>Low</th>\n",
       "      <th>Close</th>\n",
       "      <th>Adj Close</th>\n",
       "      <th>Volume</th>\n",
       "    </tr>\n",
       "    <tr>\n",
       "      <th>Date</th>\n",
       "      <th></th>\n",
       "      <th></th>\n",
       "      <th></th>\n",
       "      <th></th>\n",
       "      <th></th>\n",
       "      <th></th>\n",
       "    </tr>\n",
       "  </thead>\n",
       "  <tbody>\n",
       "    <tr>\n",
       "      <th>2015-01-02</th>\n",
       "      <td>8288.700195</td>\n",
       "      <td>8410.599609</td>\n",
       "      <td>8288.700195</td>\n",
       "      <td>8395.450195</td>\n",
       "      <td>8395.450195</td>\n",
       "      <td>101900</td>\n",
       "    </tr>\n",
       "    <tr>\n",
       "      <th>2015-01-05</th>\n",
       "      <td>8407.950195</td>\n",
       "      <td>8445.599609</td>\n",
       "      <td>8363.900391</td>\n",
       "      <td>8378.400391</td>\n",
       "      <td>8378.400391</td>\n",
       "      <td>118200</td>\n",
       "    </tr>\n",
       "    <tr>\n",
       "      <th>2015-01-06</th>\n",
       "      <td>8325.299805</td>\n",
       "      <td>8327.849609</td>\n",
       "      <td>8111.350098</td>\n",
       "      <td>8127.350098</td>\n",
       "      <td>8127.350098</td>\n",
       "      <td>172800</td>\n",
       "    </tr>\n",
       "    <tr>\n",
       "      <th>2015-01-07</th>\n",
       "      <td>8118.649902</td>\n",
       "      <td>8151.200195</td>\n",
       "      <td>8065.450195</td>\n",
       "      <td>8102.100098</td>\n",
       "      <td>8102.100098</td>\n",
       "      <td>164100</td>\n",
       "    </tr>\n",
       "    <tr>\n",
       "      <th>2015-01-08</th>\n",
       "      <td>8191.399902</td>\n",
       "      <td>8243.500000</td>\n",
       "      <td>8167.299805</td>\n",
       "      <td>8234.599609</td>\n",
       "      <td>8234.599609</td>\n",
       "      <td>143800</td>\n",
       "    </tr>\n",
       "    <tr>\n",
       "      <th>...</th>\n",
       "      <td>...</td>\n",
       "      <td>...</td>\n",
       "      <td>...</td>\n",
       "      <td>...</td>\n",
       "      <td>...</td>\n",
       "      <td>...</td>\n",
       "    </tr>\n",
       "    <tr>\n",
       "      <th>2023-02-16</th>\n",
       "      <td>18094.750000</td>\n",
       "      <td>18134.750000</td>\n",
       "      <td>18000.650391</td>\n",
       "      <td>18035.849609</td>\n",
       "      <td>18035.849609</td>\n",
       "      <td>230200</td>\n",
       "    </tr>\n",
       "    <tr>\n",
       "      <th>2023-02-17</th>\n",
       "      <td>17974.849609</td>\n",
       "      <td>18034.250000</td>\n",
       "      <td>17884.599609</td>\n",
       "      <td>17944.199219</td>\n",
       "      <td>17944.199219</td>\n",
       "      <td>208100</td>\n",
       "    </tr>\n",
       "    <tr>\n",
       "      <th>2023-02-20</th>\n",
       "      <td>17965.550781</td>\n",
       "      <td>18004.349609</td>\n",
       "      <td>17818.400391</td>\n",
       "      <td>17844.599609</td>\n",
       "      <td>17844.599609</td>\n",
       "      <td>174600</td>\n",
       "    </tr>\n",
       "    <tr>\n",
       "      <th>2023-02-21</th>\n",
       "      <td>17905.800781</td>\n",
       "      <td>17924.900391</td>\n",
       "      <td>17800.300781</td>\n",
       "      <td>17826.699219</td>\n",
       "      <td>17826.699219</td>\n",
       "      <td>198200</td>\n",
       "    </tr>\n",
       "    <tr>\n",
       "      <th>2023-02-22</th>\n",
       "      <td>17755.349609</td>\n",
       "      <td>17772.500000</td>\n",
       "      <td>17529.449219</td>\n",
       "      <td>17554.300781</td>\n",
       "      <td>17554.300781</td>\n",
       "      <td>204000</td>\n",
       "    </tr>\n",
       "  </tbody>\n",
       "</table>\n",
       "<p>2005 rows × 6 columns</p>\n",
       "</div>"
      ],
      "text/plain": [
       "                    Open          High           Low         Close  \\\n",
       "Date                                                                 \n",
       "2015-01-02   8288.700195   8410.599609   8288.700195   8395.450195   \n",
       "2015-01-05   8407.950195   8445.599609   8363.900391   8378.400391   \n",
       "2015-01-06   8325.299805   8327.849609   8111.350098   8127.350098   \n",
       "2015-01-07   8118.649902   8151.200195   8065.450195   8102.100098   \n",
       "2015-01-08   8191.399902   8243.500000   8167.299805   8234.599609   \n",
       "...                  ...           ...           ...           ...   \n",
       "2023-02-16  18094.750000  18134.750000  18000.650391  18035.849609   \n",
       "2023-02-17  17974.849609  18034.250000  17884.599609  17944.199219   \n",
       "2023-02-20  17965.550781  18004.349609  17818.400391  17844.599609   \n",
       "2023-02-21  17905.800781  17924.900391  17800.300781  17826.699219   \n",
       "2023-02-22  17755.349609  17772.500000  17529.449219  17554.300781   \n",
       "\n",
       "               Adj Close  Volume  \n",
       "Date                              \n",
       "2015-01-02   8395.450195  101900  \n",
       "2015-01-05   8378.400391  118200  \n",
       "2015-01-06   8127.350098  172800  \n",
       "2015-01-07   8102.100098  164100  \n",
       "2015-01-08   8234.599609  143800  \n",
       "...                  ...     ...  \n",
       "2023-02-16  18035.849609  230200  \n",
       "2023-02-17  17944.199219  208100  \n",
       "2023-02-20  17844.599609  174600  \n",
       "2023-02-21  17826.699219  198200  \n",
       "2023-02-22  17554.300781  204000  \n",
       "\n",
       "[2005 rows x 6 columns]"
      ]
     },
     "execution_count": 2,
     "metadata": {},
     "output_type": "execute_result"
    }
   ],
   "source": [
    "# Get historical data for Nifty 50 index from 2015 till today\n",
    "data = yf.download('^NSEI', start=\"2015-01-01\", end=\"2023-02-23\")\n",
    "data"
   ]
  },
  {
   "cell_type": "code",
   "execution_count": 21,
   "metadata": {},
   "outputs": [
    {
     "data": {
      "text/plain": [
       "Date\n",
       "2015-01-02     8395.450195\n",
       "2015-01-05     8378.400391\n",
       "2015-01-06     8127.350098\n",
       "2015-01-07     8102.100098\n",
       "2015-01-08     8234.599609\n",
       "                  ...     \n",
       "2023-02-16    18035.849609\n",
       "2023-02-17    17944.199219\n",
       "2023-02-20    17844.599609\n",
       "2023-02-21    17826.699219\n",
       "2023-02-22    17554.300781\n",
       "Name: Close, Length: 2005, dtype: float64"
      ]
     },
     "execution_count": 21,
     "metadata": {},
     "output_type": "execute_result"
    }
   ],
   "source": [
    "# Define the features and target variable\n",
    "X = data.drop('Close', axis=1)\n",
    "\n",
    "y = data['Close']\n",
    "\n",
    "y"
   ]
  },
  {
   "cell_type": "code",
   "execution_count": 22,
   "metadata": {},
   "outputs": [],
   "source": [
    "\n",
    "# Split the data into training and test sets\n",
    "X_train, X_test, y_train, y_test = train_test_split(X, y, test_size=0.3, random_state=42)\n"
   ]
  },
  {
   "cell_type": "code",
   "execution_count": 23,
   "metadata": {},
   "outputs": [
    {
     "data": {
      "text/plain": [
       "<AxesSubplot:xlabel='Date'>"
      ]
     },
     "execution_count": 23,
     "metadata": {},
     "output_type": "execute_result"
    },
    {
     "data": {
      "image/png": "[encoded data removed]",
      "text/plain": [
       "<Figure size 640x480 with 1 Axes>"
      ]
     },
     "metadata": {},
     "output_type": "display_data"
    }
   ],
   "source": [
    "data.head()\n",
    "data['Close'].plot()"
   ]
  },
  {
   "attachments": {},
   "cell_type": "markdown",
   "metadata": {},
   "source": [
    "XGBoost Regressor (r2_score = 98.79%)"
   ]
  },
  {
   "cell_type": "code",
   "execution_count": 6,
   "metadata": {},
   "outputs": [],
   "source": [
    "import xgboost as xg"
   ]
  },
  {
   "cell_type": "code",
   "execution_count": 27,
   "metadata": {},
   "outputs": [],
   "source": [
    "xgb_r = xg.XGBRegressor(objective ='reg:squarederror',\n",
    "                  n_estimators = 10, seed = 123)"
   ]
  },
  {
   "cell_type": "code",
   "execution_count": 28,
   "metadata": {},
   "outputs": [
    {
     "data": {
      "text/plain": [
       "XGBRegressor(base_score=0.5, booster='gbtree', callbacks=None,\n",
       "             colsample_bylevel=1, colsample_bynode=1, colsample_bytree=1,\n",
       "             early_stopping_rounds=None, enable_categorical=False,\n",
       "             eval_metric=None, gamma=0, gpu_id=-1, grow_policy='depthwise',\n",
       "             importance_type=None, interaction_constraints='',\n",
       "             learning_rate=0.300000012, max_bin=256, max_cat_to_onehot=4,\n",
       "             max_delta_step=0, max_depth=6, max_leaves=0, min_child_weight=1,\n",
       "             missing=nan, monotone_constraints='()', n_estimators=10, n_jobs=0,\n",
       "             num_parallel_tree=1, predictor='auto', random_state=123,\n",
       "             reg_alpha=0, reg_lambda=1, ...)"
      ]
     },
     "execution_count": 28,
     "metadata": {},
     "output_type": "execute_result"
    }
   ],
   "source": [
    "xgb_r.fit(X_train,y_train)\n"
   ]
  },
  {
   "cell_type": "code",
   "execution_count": 29,
   "metadata": {},
   "outputs": [
    {
     "data": {
      "text/html": [
       "<div>\n",
       "<style scoped>\n",
       "    .dataframe tbody tr th:only-of-type {\n",
       "        vertical-align: middle;\n",
       "    }\n",
       "\n",
       "    .dataframe tbody tr th {\n",
       "        vertical-align: top;\n",
       "    }\n",
       "\n",
       "    .dataframe thead th {\n",
       "        text-align: right;\n",
       "    }\n",
       "</style>\n",
       "<table border=\"1\" class=\"dataframe\">\n",
       "  <thead>\n",
       "    <tr style=\"text-align: right;\">\n",
       "      <th></th>\n",
       "      <th>0</th>\n",
       "    </tr>\n",
       "  </thead>\n",
       "  <tbody>\n",
       "    <tr>\n",
       "      <th>0</th>\n",
       "      <td>11586.398438</td>\n",
       "    </tr>\n",
       "    <tr>\n",
       "      <th>1</th>\n",
       "      <td>8728.197266</td>\n",
       "    </tr>\n",
       "    <tr>\n",
       "      <th>2</th>\n",
       "      <td>8280.728516</td>\n",
       "    </tr>\n",
       "    <tr>\n",
       "      <th>3</th>\n",
       "      <td>16731.318359</td>\n",
       "    </tr>\n",
       "    <tr>\n",
       "      <th>4</th>\n",
       "      <td>8280.728516</td>\n",
       "    </tr>\n",
       "    <tr>\n",
       "      <th>...</th>\n",
       "      <td>...</td>\n",
       "    </tr>\n",
       "    <tr>\n",
       "      <th>597</th>\n",
       "      <td>8269.774414</td>\n",
       "    </tr>\n",
       "    <tr>\n",
       "      <th>598</th>\n",
       "      <td>17276.730469</td>\n",
       "    </tr>\n",
       "    <tr>\n",
       "      <th>599</th>\n",
       "      <td>11227.550781</td>\n",
       "    </tr>\n",
       "    <tr>\n",
       "      <th>600</th>\n",
       "      <td>10442.985352</td>\n",
       "    </tr>\n",
       "    <tr>\n",
       "      <th>601</th>\n",
       "      <td>10442.985352</td>\n",
       "    </tr>\n",
       "  </tbody>\n",
       "</table>\n",
       "<p>602 rows × 1 columns</p>\n",
       "</div>"
      ],
      "text/plain": [
       "                0\n",
       "0    11586.398438\n",
       "1     8728.197266\n",
       "2     8280.728516\n",
       "3    16731.318359\n",
       "4     8280.728516\n",
       "..            ...\n",
       "597   8269.774414\n",
       "598  17276.730469\n",
       "599  11227.550781\n",
       "600  10442.985352\n",
       "601  10442.985352\n",
       "\n",
       "[602 rows x 1 columns]"
      ]
     },
     "execution_count": 29,
     "metadata": {},
     "output_type": "execute_result"
    }
   ],
   "source": [
    "pred = xgb_r.predict(X_test)\n",
    "pred = pd.DataFrame(data=pred)\n",
    "pred"
   ]
  },
  {
   "cell_type": "code",
   "execution_count": 30,
   "metadata": {},
   "outputs": [
    {
     "name": "stdout",
     "output_type": "stream",
     "text": [
      "R-squared :  0.987934\n"
     ]
    }
   ],
   "source": [
    "from sklearn.metrics import r2_score \n",
    "r2 = r2_score(y_test, pred)\n",
    "print(\"R-squared : % f\" %(r2))"
   ]
  },
  {
   "attachments": {},
   "cell_type": "markdown",
   "metadata": {},
   "source": [
    "K-Nearest Neighbours (r2_score = 94.03%)"
   ]
  },
  {
   "cell_type": "code",
   "execution_count": 24,
   "metadata": {},
   "outputs": [
    {
     "data": {
      "text/plain": [
       "KNeighborsRegressor()"
      ]
     },
     "execution_count": 24,
     "metadata": {},
     "output_type": "execute_result"
    }
   ],
   "source": [
    "from sklearn.neighbors import KNeighborsRegressor\n",
    "knn = KNeighborsRegressor()\n",
    "knn.fit(X_train,y_train)"
   ]
  },
  {
   "cell_type": "code",
   "execution_count": 25,
   "metadata": {},
   "outputs": [
    {
     "name": "stdout",
     "output_type": "stream",
     "text": [
      "R-squared :  0.940321\n"
     ]
    }
   ],
   "source": [
    "pred = knn.predict(X_test)\n",
    "from sklearn.metrics import r2_score \n",
    "r2 = r2_score(y_test, pred)\n",
    "print(\"R-squared : % f\" %(r2))\n"
   ]
  },
  {
   "cell_type": "code",
   "execution_count": 15,
   "metadata": {},
   "outputs": [],
   "source": [
    "# plt.plot(y_test, label='Actual Price')\n",
    "# plt.plot(pred, label='Predicted Price')\n",
    "# plt.title('Actual vs Predicted Stock Price')\n",
    "# plt.xlabel('Time')\n",
    "# plt.ylabel('Price')\n",
    "# plt.legend()\n",
    "# plt.show()"
   ]
  },
  {
   "cell_type": "code",
   "execution_count": 32,
   "metadata": {},
   "outputs": [],
   "source": []
  }
 ],
 "metadata": {
  "kernelspec": {
   "display_name": "Python 3 (ipykernel)",
   "language": "python",
   "name": "python3"
  },
  "language_info": {
   "codemirror_mode": {
    "name": "ipython",
    "version": 3
   },
   "file_extension": ".py",
   "mimetype": "text/x-python",
   "name": "python",
   "nbconvert_exporter": "python",
   "pygments_lexer": "ipython3",
   "version": "3.7.9"
  },
  "orig_nbformat": 4,
  "vscode": {
   "interpreter": {
    "hash": "49bc092b7a0715ff645a8492b0622b50e44a19998b2bf7126af3cfc291232611"
   }
  }
 },
 "nbformat": 4,
 "nbformat_minor": 2
}
