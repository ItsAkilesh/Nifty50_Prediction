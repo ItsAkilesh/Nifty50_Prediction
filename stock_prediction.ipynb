{
 "cells": [
  {
   "cell_type": "code",
   "execution_count": 205,
   "metadata": {},
   "outputs": [],
   "source": [
    "import yfinance as yf\n",
    "import pandas as pd\n",
    "from sklearn.model_selection import train_test_split\n",
    "from sklearn.preprocessing import MinMaxScaler\n",
    "from lazypredict.Supervised import LazyRegressor\n",
    "import matplotlib.pyplot as plt\n",
    "import numpy as np\n",
    "scaler = MinMaxScaler()\n"
   ]
  },
  {
   "cell_type": "code",
   "execution_count": null,
   "metadata": {},
   "outputs": [],
   "source": []
  },
  {
   "cell_type": "code",
   "execution_count": 170,
   "metadata": {},
   "outputs": [
    {
     "name": "stdout",
     "output_type": "stream",
     "text": [
      "[*********************100%***********************]  1 of 1 completed\n"
     ]
    },
    {
     "data": {
      "text/html": [
       "<div>\n",
       "<style scoped>\n",
       "    .dataframe tbody tr th:only-of-type {\n",
       "        vertical-align: middle;\n",
       "    }\n",
       "\n",
       "    .dataframe tbody tr th {\n",
       "        vertical-align: top;\n",
       "    }\n",
       "\n",
       "    .dataframe thead th {\n",
       "        text-align: right;\n",
       "    }\n",
       "</style>\n",
       "<table border=\"1\" class=\"dataframe\">\n",
       "  <thead>\n",
       "    <tr style=\"text-align: right;\">\n",
       "      <th></th>\n",
       "      <th>Open</th>\n",
       "      <th>High</th>\n",
       "      <th>Low</th>\n",
       "      <th>Close</th>\n",
       "      <th>Adj Close</th>\n",
       "      <th>Volume</th>\n",
       "    </tr>\n",
       "    <tr>\n",
       "      <th>Date</th>\n",
       "      <th></th>\n",
       "      <th></th>\n",
       "      <th></th>\n",
       "      <th></th>\n",
       "      <th></th>\n",
       "      <th></th>\n",
       "    </tr>\n",
       "  </thead>\n",
       "  <tbody>\n",
       "    <tr>\n",
       "      <th>2015-01-02</th>\n",
       "      <td>8288.70</td>\n",
       "      <td>8410.60</td>\n",
       "      <td>8288.70</td>\n",
       "      <td>8395.45</td>\n",
       "      <td>8395.45</td>\n",
       "      <td>101900</td>\n",
       "    </tr>\n",
       "    <tr>\n",
       "      <th>2015-01-05</th>\n",
       "      <td>8407.95</td>\n",
       "      <td>8445.60</td>\n",
       "      <td>8363.90</td>\n",
       "      <td>8378.40</td>\n",
       "      <td>8378.40</td>\n",
       "      <td>118200</td>\n",
       "    </tr>\n",
       "    <tr>\n",
       "      <th>2015-01-06</th>\n",
       "      <td>8325.30</td>\n",
       "      <td>8327.85</td>\n",
       "      <td>8111.35</td>\n",
       "      <td>8127.35</td>\n",
       "      <td>8127.35</td>\n",
       "      <td>172800</td>\n",
       "    </tr>\n",
       "    <tr>\n",
       "      <th>2015-01-07</th>\n",
       "      <td>8118.65</td>\n",
       "      <td>8151.20</td>\n",
       "      <td>8065.45</td>\n",
       "      <td>8102.10</td>\n",
       "      <td>8102.10</td>\n",
       "      <td>164100</td>\n",
       "    </tr>\n",
       "    <tr>\n",
       "      <th>2015-01-08</th>\n",
       "      <td>8191.40</td>\n",
       "      <td>8243.50</td>\n",
       "      <td>8167.30</td>\n",
       "      <td>8234.60</td>\n",
       "      <td>8234.60</td>\n",
       "      <td>143800</td>\n",
       "    </tr>\n",
       "    <tr>\n",
       "      <th>...</th>\n",
       "      <td>...</td>\n",
       "      <td>...</td>\n",
       "      <td>...</td>\n",
       "      <td>...</td>\n",
       "      <td>...</td>\n",
       "      <td>...</td>\n",
       "    </tr>\n",
       "    <tr>\n",
       "      <th>2023-02-16</th>\n",
       "      <td>18094.75</td>\n",
       "      <td>18134.75</td>\n",
       "      <td>18000.65</td>\n",
       "      <td>18035.85</td>\n",
       "      <td>18035.85</td>\n",
       "      <td>230200</td>\n",
       "    </tr>\n",
       "    <tr>\n",
       "      <th>2023-02-17</th>\n",
       "      <td>17974.85</td>\n",
       "      <td>18034.25</td>\n",
       "      <td>17884.60</td>\n",
       "      <td>17944.20</td>\n",
       "      <td>17944.20</td>\n",
       "      <td>208100</td>\n",
       "    </tr>\n",
       "    <tr>\n",
       "      <th>2023-02-20</th>\n",
       "      <td>17965.55</td>\n",
       "      <td>18004.35</td>\n",
       "      <td>17818.40</td>\n",
       "      <td>17844.60</td>\n",
       "      <td>17844.60</td>\n",
       "      <td>174600</td>\n",
       "    </tr>\n",
       "    <tr>\n",
       "      <th>2023-02-21</th>\n",
       "      <td>17905.80</td>\n",
       "      <td>17924.90</td>\n",
       "      <td>17800.30</td>\n",
       "      <td>17826.70</td>\n",
       "      <td>17826.70</td>\n",
       "      <td>198200</td>\n",
       "    </tr>\n",
       "    <tr>\n",
       "      <th>2023-02-22</th>\n",
       "      <td>17755.35</td>\n",
       "      <td>17772.50</td>\n",
       "      <td>17529.45</td>\n",
       "      <td>17554.30</td>\n",
       "      <td>17554.30</td>\n",
       "      <td>204000</td>\n",
       "    </tr>\n",
       "  </tbody>\n",
       "</table>\n",
       "<p>2005 rows × 6 columns</p>\n",
       "</div>"
      ],
      "text/plain": [
       "               Open     High      Low    Close  Adj Close  Volume\n",
       "Date                                                             \n",
       "2015-01-02  8288.70  8410.60  8288.70  8395.45    8395.45  101900\n",
       "2015-01-05  8407.95  8445.60  8363.90  8378.40    8378.40  118200\n",
       "2015-01-06  8325.30  8327.85  8111.35  8127.35    8127.35  172800\n",
       "2015-01-07  8118.65  8151.20  8065.45  8102.10    8102.10  164100\n",
       "2015-01-08  8191.40  8243.50  8167.30  8234.60    8234.60  143800\n",
       "...             ...      ...      ...      ...        ...     ...\n",
       "2023-02-16 18094.75 18134.75 18000.65 18035.85   18035.85  230200\n",
       "2023-02-17 17974.85 18034.25 17884.60 17944.20   17944.20  208100\n",
       "2023-02-20 17965.55 18004.35 17818.40 17844.60   17844.60  174600\n",
       "2023-02-21 17905.80 17924.90 17800.30 17826.70   17826.70  198200\n",
       "2023-02-22 17755.35 17772.50 17529.45 17554.30   17554.30  204000\n",
       "\n",
       "[2005 rows x 6 columns]"
      ]
     },
     "execution_count": 170,
     "metadata": {},
     "output_type": "execute_result"
    }
   ],
   "source": [
    "# Get historical data for Nifty 50 index from 2015 till today\n",
    "data = yf.download('^NSEI', start=\"2015-01-01\", end=\"2023-02-23\")\n",
    "data"
   ]
  },
  {
   "cell_type": "code",
   "execution_count": 171,
   "metadata": {},
   "outputs": [
    {
     "data": {
      "text/plain": [
       "Date\n",
       "2015-01-02    8395.45\n",
       "2015-01-05    8378.40\n",
       "2015-01-06    8127.35\n",
       "2015-01-07    8102.10\n",
       "2015-01-08    8234.60\n",
       "               ...   \n",
       "2023-02-16   18035.85\n",
       "2023-02-17   17944.20\n",
       "2023-02-20   17844.60\n",
       "2023-02-21   17826.70\n",
       "2023-02-22   17554.30\n",
       "Name: Close, Length: 2005, dtype: float64"
      ]
     },
     "execution_count": 171,
     "metadata": {},
     "output_type": "execute_result"
    }
   ],
   "source": [
    "# Define the features and target variable\n",
    "X = data.drop('Close', axis=1)\n",
    "\n",
    "y = data['Close']\n",
    "\n",
    "y"
   ]
  },
  {
   "cell_type": "code",
   "execution_count": 173,
   "metadata": {},
   "outputs": [],
   "source": [
    "\n",
    "# Split the data into training and test sets\n",
    "X_train, X_test, y_train, y_test = train_test_split(X, y, test_size=0.3, random_state=42)\n"
   ]
  },
  {
   "cell_type": "code",
   "execution_count": 174,
   "metadata": {},
   "outputs": [
    {
     "name": "stderr",
     "output_type": "stream",
     "text": [
      " 17%|█▋        | 7/42 [00:00<00:01, 26.28it/s]"
     ]
    },
    {
     "name": "stdout",
     "output_type": "stream",
     "text": [
      "{'Model': 'AdaBoostRegressor', 'R-Squared': 0.9946673015022766, 'Adjusted R-Squared': 0.9946225640987721, 'RMSE': 248.25880564224326, 'Time taken': 0.09752798080444336}\n",
      "{'Model': 'BaggingRegressor', 'R-Squared': 0.9999718708044153, 'Adjusted R-Squared': 0.9999716348212309, 'RMSE': 18.030584396411555, 'Time taken': 0.054398536682128906}\n",
      "{'Model': 'BayesianRidge', 'R-Squared': 1.0, 'Adjusted R-Squared': 1.0, 'RMSE': 3.9193763498992376e-10, 'Time taken': 0.029050588607788086}\n",
      "{'Model': 'DecisionTreeRegressor', 'R-Squared': 0.9999568249833561, 'Adjusted R-Squared': 0.9999564627768407, 'RMSE': 22.338160318419717, 'Time taken': 0.014880180358886719}\n",
      "{'Model': 'DummyRegressor', 'R-Squared': -0.0011281271943026638, 'Adjusted R-Squared': -0.009526853093583698, 'RMSE': 3401.543101124121, 'Time taken': 0.008636951446533203}\n",
      "{'Model': 'ElasticNet', 'R-Squared': 0.9871523248953717, 'Adjusted R-Squared': 0.9870445423861047, 'RMSE': 385.3394023129972, 'Time taken': 0.017694950103759766}\n",
      "{'Model': 'ElasticNetCV', 'R-Squared': 0.7933460476887507, 'Adjusted R-Squared': 0.7916123735921798, 'RMSE': 1545.4430453345901, 'Time taken': 0.0646812915802002}\n",
      "{'Model': 'ExtraTreeRegressor', 'R-Squared': 0.9999104772495685, 'Adjusted R-Squared': 0.999909726219783, 'RMSE': 32.16605905887501, 'Time taken': 0.010396718978881836}\n"
     ]
    },
    {
     "name": "stderr",
     "output_type": "stream",
     "text": [
      " 24%|██▍       | 10/42 [00:00<00:02, 15.76it/s]"
     ]
    },
    {
     "name": "stdout",
     "output_type": "stream",
     "text": [
      "{'Model': 'ExtraTreesRegressor', 'R-Squared': 0.9999755305184924, 'Adjusted R-Squared': 0.9999753252376072, 'RMSE': 16.816806620570627, 'Time taken': 0.26816701889038086}\n",
      "{'Model': 'GammaRegressor', 'R-Squared': 0.9534963118767386, 'Adjusted R-Squared': 0.9531061802649662, 'RMSE': 733.1196249758775, 'Time taken': 0.02259540557861328}\n",
      "{'Model': 'GaussianProcessRegressor', 'R-Squared': 0.9952707939695811, 'Adjusted R-Squared': 0.995231119422346, 'RMSE': 233.78964097096195, 'Time taken': 0.22479963302612305}\n",
      "{'Model': 'GradientBoostingRegressor', 'R-Squared': 0.9999415691785342, 'Adjusted R-Squared': 0.999941078987079, 'RMSE': 25.986760427117467, 'Time taken': 0.19176101684570312}\n"
     ]
    },
    {
     "name": "stderr",
     "output_type": "stream",
     "text": [
      " 43%|████▎     | 18/42 [00:01<00:02, 10.32it/s]"
     ]
    },
    {
     "name": "stdout",
     "output_type": "stream",
     "text": [
      "{'Model': 'HistGradientBoostingRegressor', 'R-Squared': 0.9998276518038584, 'Adjusted R-Squared': 0.9998262059297296, 'RMSE': 44.63078419850544, 'Time taken': 0.4880795478820801}\n",
      "{'Model': 'HuberRegressor', 'R-Squared': 1.0, 'Adjusted R-Squared': 1.0, 'RMSE': 2.113259513904998e-05, 'Time taken': 0.06351113319396973}\n",
      "{'Model': 'KNeighborsRegressor', 'R-Squared': 0.9987504544975083, 'Adjusted R-Squared': 0.9987399717332257, 'RMSE': 120.17307788487976, 'Time taken': 0.012003183364868164}\n",
      "{'Model': 'KernelRidge', 'R-Squared': -10.923210302812524, 'Adjusted R-Squared': -11.023237234883098, 'RMSE': 11738.909344867332, 'Time taken': 0.07125663757324219}\n",
      "{'Model': 'Lars', 'R-Squared': 1.0, 'Adjusted R-Squared': 1.0, 'RMSE': 2.0303109419565213e-13, 'Time taken': 0.011323928833007812}\n",
      "{'Model': 'LarsCV', 'R-Squared': 1.0, 'Adjusted R-Squared': 1.0, 'RMSE': 2.0303109419565213e-13, 'Time taken': 0.015676259994506836}\n"
     ]
    },
    {
     "name": "stderr",
     "output_type": "stream",
     "text": [
      " 55%|█████▍    | 23/42 [00:01<00:01, 15.68it/s]"
     ]
    },
    {
     "name": "stdout",
     "output_type": "stream",
     "text": [
      "{'Model': 'Lasso', 'R-Squared': 0.9997679787417322, 'Adjusted R-Squared': 0.9997660322546662, 'RMSE': 51.78393340522405, 'Time taken': 0.011315584182739258}\n",
      "{'Model': 'LassoCV', 'R-Squared': 0.9997658246314182, 'Adjusted R-Squared': 0.9997638600729569, 'RMSE': 52.02376184637039, 'Time taken': 0.06593513488769531}\n",
      "{'Model': 'LassoLars', 'R-Squared': 0.9998730410052201, 'Adjusted R-Squared': 0.999871975912982, 'RMSE': 38.305654239036194, 'Time taken': 0.008002042770385742}\n",
      "{'Model': 'LassoLarsCV', 'R-Squared': 1.0, 'Adjusted R-Squared': 1.0, 'RMSE': 2.0303109419565213e-13, 'Time taken': 0.011425495147705078}\n",
      "{'Model': 'LassoLarsIC', 'R-Squared': 1.0, 'Adjusted R-Squared': 1.0, 'RMSE': 2.0303109419565213e-13, 'Time taken': 0.012373924255371094}\n",
      "{'Model': 'LinearRegression', 'R-Squared': 1.0, 'Adjusted R-Squared': 1.0, 'RMSE': 9.644867420440456e-13, 'Time taken': 0.009510993957519531}\n",
      "{'Model': 'LinearSVR', 'R-Squared': -9.038199319290953, 'Adjusted R-Squared': -9.122412400828628, 'RMSE': 10771.07510269211, 'Time taken': 0.012138128280639648}\n"
     ]
    },
    {
     "name": "stderr",
     "output_type": "stream",
     "text": [
      " 67%|██████▋   | 28/42 [00:03<00:02,  6.70it/s]"
     ]
    },
    {
     "name": "stdout",
     "output_type": "stream",
     "text": [
      "{'Model': 'MLPRegressor', 'R-Squared': -10.01471378703586, 'Adjusted R-Squared': -10.107119104041193, 'RMSE': 11282.822475840689, 'Time taken': 1.3225622177124023}\n",
      "{'Model': 'NuSVR', 'R-Squared': 0.12438479965058469, 'Adjusted R-Squared': 0.11703903454698228, 'RMSE': 3181.176699017724, 'Time taken': 0.12958526611328125}\n",
      "{'Model': 'OrthogonalMatchingPursuit', 'R-Squared': 1.0, 'Adjusted R-Squared': 1.0, 'RMSE': 1.6072404445231947e-12, 'Time taken': 0.01121830940246582}\n",
      "{'Model': 'OrthogonalMatchingPursuitCV', 'R-Squared': 1.0, 'Adjusted R-Squared': 1.0, 'RMSE': 1.6072404445231947e-12, 'Time taken': 0.014621734619140625}\n",
      "{'Model': 'PassiveAggressiveRegressor', 'R-Squared': 0.9999945100144053, 'Adjusted R-Squared': 0.9999944639574792, 'RMSE': 7.96556799408771, 'Time taken': 0.02643728256225586}\n",
      "{'Model': 'PoissonRegressor', 'R-Squared': 0.9910134401293103, 'Adjusted R-Squared': 0.9909380495263682, 'RMSE': 322.2759391645729, 'Time taken': 0.01765298843383789}\n"
     ]
    },
    {
     "name": "stderr",
     "output_type": "stream",
     "text": [
      " 76%|███████▌  | 32/42 [01:27<01:19,  7.91s/it]"
     ]
    },
    {
     "name": "stdout",
     "output_type": "stream",
     "text": [
      "{'Model': 'QuantileRegressor', 'R-Squared': -0.053756771792369484, 'Adjusted R-Squared': -0.06259701316646638, 'RMSE': 3489.8064094674387, 'Time taken': 83.7823703289032}\n",
      "{'Model': 'RANSACRegressor', 'R-Squared': 1.0, 'Adjusted R-Squared': 1.0, 'RMSE': 9.587712147271257e-13, 'Time taken': 0.015580892562866211}\n"
     ]
    },
    {
     "name": "stderr",
     "output_type": "stream",
     "text": [
      " 90%|█████████ | 38/42 [01:27<00:15,  3.95s/it]"
     ]
    },
    {
     "name": "stdout",
     "output_type": "stream",
     "text": [
      "{'Model': 'RandomForestRegressor', 'R-Squared': 0.9999791603162359, 'Adjusted R-Squared': 0.9999789854866741, 'RMSE': 15.519463679357061, 'Time taken': 0.41314077377319336}\n",
      "{'Model': 'Ridge', 'R-Squared': 0.9999214903344582, 'Adjusted R-Squared': 0.9999208316963245, 'RMSE': 30.122617719402804, 'Time taken': 0.00935053825378418}\n",
      "{'Model': 'RidgeCV', 'R-Squared': 0.9999931295507326, 'Adjusted R-Squared': 0.9999930719127353, 'RMSE': 8.910944016386127, 'Time taken': 0.013792037963867188}\n",
      "{'Model': 'SGDRegressor', 'R-Squared': 0.9998283779130227, 'Adjusted R-Squared': 0.9998269381304138, 'RMSE': 44.53666941513197, 'Time taken': 0.039597272872924805}\n",
      "{'Model': 'SVR', 'R-Squared': 0.11083555089533215, 'Adjusted R-Squared': 0.10337611759747423, 'RMSE': 3205.6949406920953, 'Time taken': 0.1316053867340088}\n",
      "{'Model': 'TransformedTargetRegressor', 'R-Squared': 1.0, 'Adjusted R-Squared': 1.0, 'RMSE': 9.644867420440456e-13, 'Time taken': 0.05595254898071289}\n",
      "{'Model': 'TweedieRegressor', 'R-Squared': 0.959411427242983, 'Adjusted R-Squared': 0.9590709190822698, 'RMSE': 684.9092581670266, 'Time taken': 0.013090372085571289}\n"
     ]
    },
    {
     "name": "stderr",
     "output_type": "stream",
     "text": [
      "100%|██████████| 42/42 [01:28<00:00,  2.10s/it]"
     ]
    },
    {
     "name": "stdout",
     "output_type": "stream",
     "text": [
      "{'Model': 'XGBRegressor', 'R-Squared': 0.9999229615595443, 'Adjusted R-Squared': 0.9999223152639029, 'RMSE': 29.839042835250574, 'Time taken': 0.3139359951019287}\n",
      "{'Model': 'LGBMRegressor', 'R-Squared': 0.9998397609547284, 'Adjusted R-Squared': 0.9998384166674358, 'RMSE': 43.0343572674336, 'Time taken': 0.09516382217407227}\n",
      "                               Adjusted R-Squared  R-Squared     RMSE  \\\n",
      "Model                                                                   \n",
      "LassoLarsCV                                  1.00       1.00     0.00   \n",
      "OrthogonalMatchingPursuitCV                  1.00       1.00     0.00   \n",
      "BayesianRidge                                1.00       1.00     0.00   \n",
      "LinearRegression                             1.00       1.00     0.00   \n",
      "OrthogonalMatchingPursuit                    1.00       1.00     0.00   \n",
      "TransformedTargetRegressor                   1.00       1.00     0.00   \n",
      "LarsCV                                       1.00       1.00     0.00   \n",
      "Lars                                         1.00       1.00     0.00   \n",
      "LassoLarsIC                                  1.00       1.00     0.00   \n",
      "RANSACRegressor                              1.00       1.00     0.00   \n",
      "HuberRegressor                               1.00       1.00     0.00   \n",
      "PassiveAggressiveRegressor                   1.00       1.00     7.97   \n",
      "RidgeCV                                      1.00       1.00     8.91   \n",
      "RandomForestRegressor                        1.00       1.00    15.52   \n",
      "ExtraTreesRegressor                          1.00       1.00    16.82   \n",
      "BaggingRegressor                             1.00       1.00    18.03   \n",
      "DecisionTreeRegressor                        1.00       1.00    22.34   \n",
      "GradientBoostingRegressor                    1.00       1.00    25.99   \n",
      "XGBRegressor                                 1.00       1.00    29.84   \n",
      "Ridge                                        1.00       1.00    30.12   \n",
      "ExtraTreeRegressor                           1.00       1.00    32.17   \n",
      "LassoLars                                    1.00       1.00    38.31   \n",
      "LGBMRegressor                                1.00       1.00    43.03   \n",
      "SGDRegressor                                 1.00       1.00    44.54   \n",
      "HistGradientBoostingRegressor                1.00       1.00    44.63   \n",
      "Lasso                                        1.00       1.00    51.78   \n",
      "LassoCV                                      1.00       1.00    52.02   \n",
      "KNeighborsRegressor                          1.00       1.00   120.17   \n",
      "GaussianProcessRegressor                     1.00       1.00   233.79   \n",
      "AdaBoostRegressor                            0.99       0.99   248.26   \n",
      "PoissonRegressor                             0.99       0.99   322.28   \n",
      "ElasticNet                                   0.99       0.99   385.34   \n",
      "TweedieRegressor                             0.96       0.96   684.91   \n",
      "GammaRegressor                               0.95       0.95   733.12   \n",
      "ElasticNetCV                                 0.79       0.79  1545.44   \n",
      "NuSVR                                        0.12       0.12  3181.18   \n",
      "SVR                                          0.10       0.11  3205.69   \n",
      "DummyRegressor                              -0.01      -0.00  3401.54   \n",
      "QuantileRegressor                           -0.06      -0.05  3489.81   \n",
      "LinearSVR                                   -9.12      -9.04 10771.08   \n",
      "MLPRegressor                               -10.11     -10.01 11282.82   \n",
      "KernelRidge                                -11.02     -10.92 11738.91   \n",
      "\n",
      "                               Time Taken  \n",
      "Model                                      \n",
      "LassoLarsCV                          0.01  \n",
      "OrthogonalMatchingPursuitCV          0.01  \n",
      "BayesianRidge                        0.03  \n",
      "LinearRegression                     0.01  \n",
      "OrthogonalMatchingPursuit            0.01  \n",
      "TransformedTargetRegressor           0.06  \n",
      "LarsCV                               0.02  \n",
      "Lars                                 0.01  \n",
      "LassoLarsIC                          0.01  \n",
      "RANSACRegressor                      0.02  \n",
      "HuberRegressor                       0.06  \n",
      "PassiveAggressiveRegressor           0.03  \n",
      "RidgeCV                              0.01  \n",
      "RandomForestRegressor                0.41  \n",
      "ExtraTreesRegressor                  0.27  \n",
      "BaggingRegressor                     0.05  \n",
      "DecisionTreeRegressor                0.01  \n",
      "GradientBoostingRegressor            0.19  \n",
      "XGBRegressor                         0.31  \n",
      "Ridge                                0.01  \n",
      "ExtraTreeRegressor                   0.01  \n",
      "LassoLars                            0.01  \n",
      "LGBMRegressor                        0.10  \n",
      "SGDRegressor                         0.04  \n",
      "HistGradientBoostingRegressor        0.49  \n",
      "Lasso                                0.01  \n",
      "LassoCV                              0.07  \n",
      "KNeighborsRegressor                  0.01  \n",
      "GaussianProcessRegressor             0.22  \n",
      "AdaBoostRegressor                    0.10  \n",
      "PoissonRegressor                     0.02  \n",
      "ElasticNet                           0.02  \n",
      "TweedieRegressor                     0.01  \n",
      "GammaRegressor                       0.02  \n",
      "ElasticNetCV                         0.06  \n",
      "NuSVR                                0.13  \n",
      "SVR                                  0.13  \n",
      "DummyRegressor                       0.01  \n",
      "QuantileRegressor                   83.78  \n",
      "LinearSVR                            0.01  \n",
      "MLPRegressor                         1.32  \n",
      "KernelRidge                          0.07  \n"
     ]
    },
    {
     "name": "stderr",
     "output_type": "stream",
     "text": [
      "\n"
     ]
    }
   ],
   "source": [
    "# Use LazyRegressor to find the most suitable model\n",
    "reg = LazyRegressor(verbose=1, ignore_warnings=True, custom_metric=None)\n",
    "models, predictions = reg.fit(X_train, X_test, y_train, y_test)\n",
    "\n",
    "# Print the results\n",
    "print(models)\n"
   ]
  },
  {
   "cell_type": "code",
   "execution_count": 175,
   "metadata": {},
   "outputs": [
    {
     "data": {
      "text/plain": [
       "(array([ 0,  1,  2,  3,  4,  5,  6,  7,  8,  9, 10, 11, 12, 13, 14, 15, 16,\n",
       "        17, 18, 19, 20, 21, 22, 23, 24, 25, 26, 27, 28, 29, 30, 31, 32, 33,\n",
       "        34, 35, 36, 37, 38, 39, 40, 41]),\n",
       " [Text(0, 0, 'LassoLarsCV'),\n",
       "  Text(1, 0, 'OrthogonalMatchingPursuitCV'),\n",
       "  Text(2, 0, 'BayesianRidge'),\n",
       "  Text(3, 0, 'LinearRegression'),\n",
       "  Text(4, 0, 'OrthogonalMatchingPursuit'),\n",
       "  Text(5, 0, 'TransformedTargetRegressor'),\n",
       "  Text(6, 0, 'LarsCV'),\n",
       "  Text(7, 0, 'Lars'),\n",
       "  Text(8, 0, 'LassoLarsIC'),\n",
       "  Text(9, 0, 'RANSACRegressor'),\n",
       "  Text(10, 0, 'HuberRegressor'),\n",
       "  Text(11, 0, 'PassiveAggressiveRegressor'),\n",
       "  Text(12, 0, 'RidgeCV'),\n",
       "  Text(13, 0, 'RandomForestRegressor'),\n",
       "  Text(14, 0, 'ExtraTreesRegressor'),\n",
       "  Text(15, 0, 'BaggingRegressor'),\n",
       "  Text(16, 0, 'DecisionTreeRegressor'),\n",
       "  Text(17, 0, 'GradientBoostingRegressor'),\n",
       "  Text(18, 0, 'XGBRegressor'),\n",
       "  Text(19, 0, 'Ridge'),\n",
       "  Text(20, 0, 'ExtraTreeRegressor'),\n",
       "  Text(21, 0, 'LassoLars'),\n",
       "  Text(22, 0, 'LGBMRegressor'),\n",
       "  Text(23, 0, 'SGDRegressor'),\n",
       "  Text(24, 0, 'HistGradientBoostingRegressor'),\n",
       "  Text(25, 0, 'Lasso'),\n",
       "  Text(26, 0, 'LassoCV'),\n",
       "  Text(27, 0, 'KNeighborsRegressor'),\n",
       "  Text(28, 0, 'GaussianProcessRegressor'),\n",
       "  Text(29, 0, 'AdaBoostRegressor'),\n",
       "  Text(30, 0, 'PoissonRegressor'),\n",
       "  Text(31, 0, 'ElasticNet'),\n",
       "  Text(32, 0, 'TweedieRegressor'),\n",
       "  Text(33, 0, 'GammaRegressor'),\n",
       "  Text(34, 0, 'ElasticNetCV'),\n",
       "  Text(35, 0, 'NuSVR'),\n",
       "  Text(36, 0, 'SVR'),\n",
       "  Text(37, 0, 'DummyRegressor'),\n",
       "  Text(38, 0, 'QuantileRegressor'),\n",
       "  Text(39, 0, 'LinearSVR'),\n",
       "  Text(40, 0, 'MLPRegressor'),\n",
       "  Text(41, 0, 'KernelRidge')])"
      ]
     },
     "execution_count": 175,
     "metadata": {},
     "output_type": "execute_result"
    },
    {
     "data": {
      "image/png": "[encoded data removed]",
      "text/plain": [
       "<Figure size 1000x500 with 1 Axes>"
      ]
     },
     "metadata": {},
     "output_type": "display_data"
    }
   ],
   "source": [
    "import matplotlib.pyplot as plt\n",
    "import seaborn as sns\n",
    " \n",
    "plt.figure(figsize=(10, 5))\n",
    "sns.set_theme(style=\"whitegrid\")\n",
    "ax = sns.barplot(x=models.index, y=\"R-Squared\", data=models)\n",
    "ax.set(ylim=(0, 1))\n",
    "plt.xticks(rotation=90)"
   ]
  },
  {
   "cell_type": "code",
   "execution_count": 176,
   "metadata": {},
   "outputs": [
    {
     "data": {
      "text/plain": [
       "<AxesSubplot:xlabel='Date'>"
      ]
     },
     "execution_count": 176,
     "metadata": {},
     "output_type": "execute_result"
    },
    {
     "data": {
      "image/png": "[encoded data removed]",
      "text/plain": [
       "<Figure size 640x480 with 1 Axes>"
      ]
     },
     "metadata": {},
     "output_type": "display_data"
    }
   ],
   "source": [
    "data.head()\n",
    "data['Close'].plot()"
   ]
  },
  {
   "cell_type": "code",
   "execution_count": 177,
   "metadata": {},
   "outputs": [],
   "source": [
    "import xgboost as xg"
   ]
  },
  {
   "cell_type": "code",
   "execution_count": 178,
   "metadata": {},
   "outputs": [],
   "source": [
    "xgb_r = xg.XGBRegressor(objective ='reg:squarederror',\n",
    "                  n_estimators = 10, seed = 123)"
   ]
  },
  {
   "cell_type": "code",
   "execution_count": 179,
   "metadata": {},
   "outputs": [
    {
     "data": {
      "text/plain": [
       "XGBRegressor(base_score=0.5, booster='gbtree', callbacks=None,\n",
       "             colsample_bylevel=1, colsample_bynode=1, colsample_bytree=1,\n",
       "             early_stopping_rounds=None, enable_categorical=False,\n",
       "             eval_metric=None, gamma=0, gpu_id=-1, grow_policy='depthwise',\n",
       "             importance_type=None, interaction_constraints='',\n",
       "             learning_rate=0.300000012, max_bin=256, max_cat_to_onehot=4,\n",
       "             max_delta_step=0, max_depth=6, max_leaves=0, min_child_weight=1,\n",
       "             missing=nan, monotone_constraints='()', n_estimators=10, n_jobs=0,\n",
       "             num_parallel_tree=1, predictor='auto', random_state=123,\n",
       "             reg_alpha=0, reg_lambda=1, ...)"
      ]
     },
     "execution_count": 179,
     "metadata": {},
     "output_type": "execute_result"
    }
   ],
   "source": [
    "xgb_r.fit(X_train,y_train)\n"
   ]
  },
  {
   "cell_type": "code",
   "execution_count": 196,
   "metadata": {},
   "outputs": [
    {
     "data": {
      "text/html": [
       "<div>\n",
       "<style scoped>\n",
       "    .dataframe tbody tr th:only-of-type {\n",
       "        vertical-align: middle;\n",
       "    }\n",
       "\n",
       "    .dataframe tbody tr th {\n",
       "        vertical-align: top;\n",
       "    }\n",
       "\n",
       "    .dataframe thead th {\n",
       "        text-align: right;\n",
       "    }\n",
       "</style>\n",
       "<table border=\"1\" class=\"dataframe\">\n",
       "  <thead>\n",
       "    <tr style=\"text-align: right;\">\n",
       "      <th></th>\n",
       "      <th>0</th>\n",
       "    </tr>\n",
       "  </thead>\n",
       "  <tbody>\n",
       "    <tr>\n",
       "      <th>0</th>\n",
       "      <td>11586.40</td>\n",
       "    </tr>\n",
       "    <tr>\n",
       "      <th>1</th>\n",
       "      <td>8728.20</td>\n",
       "    </tr>\n",
       "    <tr>\n",
       "      <th>2</th>\n",
       "      <td>8280.73</td>\n",
       "    </tr>\n",
       "    <tr>\n",
       "      <th>3</th>\n",
       "      <td>16731.32</td>\n",
       "    </tr>\n",
       "    <tr>\n",
       "      <th>4</th>\n",
       "      <td>8280.73</td>\n",
       "    </tr>\n",
       "    <tr>\n",
       "      <th>...</th>\n",
       "      <td>...</td>\n",
       "    </tr>\n",
       "    <tr>\n",
       "      <th>597</th>\n",
       "      <td>8269.77</td>\n",
       "    </tr>\n",
       "    <tr>\n",
       "      <th>598</th>\n",
       "      <td>17276.73</td>\n",
       "    </tr>\n",
       "    <tr>\n",
       "      <th>599</th>\n",
       "      <td>11227.55</td>\n",
       "    </tr>\n",
       "    <tr>\n",
       "      <th>600</th>\n",
       "      <td>10442.99</td>\n",
       "    </tr>\n",
       "    <tr>\n",
       "      <th>601</th>\n",
       "      <td>10442.99</td>\n",
       "    </tr>\n",
       "  </tbody>\n",
       "</table>\n",
       "<p>602 rows × 1 columns</p>\n",
       "</div>"
      ],
      "text/plain": [
       "           0\n",
       "0   11586.40\n",
       "1    8728.20\n",
       "2    8280.73\n",
       "3   16731.32\n",
       "4    8280.73\n",
       "..       ...\n",
       "597  8269.77\n",
       "598 17276.73\n",
       "599 11227.55\n",
       "600 10442.99\n",
       "601 10442.99\n",
       "\n",
       "[602 rows x 1 columns]"
      ]
     },
     "execution_count": 196,
     "metadata": {},
     "output_type": "execute_result"
    }
   ],
   "source": [
    "pred = xgb_r.predict(X_test)\n",
    "pred = pd.DataFrame(data=pred)\n",
    "pred"
   ]
  },
  {
   "cell_type": "code",
   "execution_count": 181,
   "metadata": {},
   "outputs": [
    {
     "name": "stdout",
     "output_type": "stream",
     "text": [
      "R-squared :  0.987934\n"
     ]
    }
   ],
   "source": [
    "from sklearn.metrics import r2_score \n",
    "r2 = r2_score(y_test, pred)\n",
    "print(\"R-squared : % f\" %(r2))"
   ]
  },
  {
   "cell_type": "code",
   "execution_count": 236,
   "metadata": {},
   "outputs": [
    {
     "data": {
      "text/plain": [
       "KNeighborsRegressor()"
      ]
     },
     "execution_count": 236,
     "metadata": {},
     "output_type": "execute_result"
    }
   ],
   "source": [
    "from sklearn.neighbors import KNeighborsRegressor\n",
    "knn = KNeighborsRegressor()\n",
    "knn.fit(X_train,y_train)"
   ]
  },
  {
   "cell_type": "code",
   "execution_count": 207,
   "metadata": {},
   "outputs": [
    {
     "name": "stdout",
     "output_type": "stream",
     "text": [
      "R-squared :  0.940321\n"
     ]
    }
   ],
   "source": [
    "pred = knn.predict(X_test)\n",
    "from sklearn.metrics import r2_score \n",
    "r2 = r2_score(y_test, pred)\n",
    "print(\"R-squared : % f\" %(r2))\n"
   ]
  },
  {
   "cell_type": "code",
   "execution_count": 235,
   "metadata": {},
   "outputs": [
    {
     "data": {
      "image/png": "[encoded data removed]",
      "text/plain": [
       "<Figure size 640x480 with 1 Axes>"
      ]
     },
     "metadata": {},
     "output_type": "display_data"
    }
   ],
   "source": [
    "plt.plot(y_test, label='Actual Price')\n",
    "plt.plot(pred, label='Predicted Price')\n",
    "plt.title('Actual vs Predicted Stock Price')\n",
    "plt.xlabel('Time')\n",
    "plt.ylabel('Price')\n",
    "plt.legend()\n",
    "plt.show()"
   ]
  },
  {
   "cell_type": "code",
   "execution_count": 233,
   "metadata": {},
   "outputs": [
    {
     "data": {
      "text/plain": [
       "TweedieRegressor()"
      ]
     },
     "execution_count": 233,
     "metadata": {},
     "output_type": "execute_result"
    }
   ],
   "source": [
    "from sklearn.linear_model import TweedieRegressor\n",
    "\n",
    "gr = TweedieRegressor()\n",
    "gr.fit(X_train,y_train)"
   ]
  },
  {
   "cell_type": "code",
   "execution_count": 234,
   "metadata": {},
   "outputs": [
    {
     "name": "stdout",
     "output_type": "stream",
     "text": [
      "R-squared :  1.000000\n"
     ]
    }
   ],
   "source": [
    "pred = gr.predict(X_test)\n",
    "from sklearn.metrics import r2_score \n",
    "r2 = r2_score(y_test, pred)\n",
    "print(\"R-squared : % f\" %(r2))"
   ]
  },
  {
   "cell_type": "code",
   "execution_count": 230,
   "metadata": {},
   "outputs": [
    {
     "data": {
      "text/html": [
       "<div>\n",
       "<style scoped>\n",
       "    .dataframe tbody tr th:only-of-type {\n",
       "        vertical-align: middle;\n",
       "    }\n",
       "\n",
       "    .dataframe tbody tr th {\n",
       "        vertical-align: top;\n",
       "    }\n",
       "\n",
       "    .dataframe thead th {\n",
       "        text-align: right;\n",
       "    }\n",
       "</style>\n",
       "<table border=\"1\" class=\"dataframe\">\n",
       "  <thead>\n",
       "    <tr style=\"text-align: right;\">\n",
       "      <th></th>\n",
       "      <th>Adjusted R-Squared</th>\n",
       "      <th>R-Squared</th>\n",
       "      <th>RMSE</th>\n",
       "      <th>Time Taken</th>\n",
       "    </tr>\n",
       "    <tr>\n",
       "      <th>Model</th>\n",
       "      <th></th>\n",
       "      <th></th>\n",
       "      <th></th>\n",
       "      <th></th>\n",
       "    </tr>\n",
       "  </thead>\n",
       "  <tbody>\n",
       "    <tr>\n",
       "      <th>LassoLarsCV</th>\n",
       "      <td>1.00</td>\n",
       "      <td>1.00</td>\n",
       "      <td>0.00</td>\n",
       "      <td>0.01</td>\n",
       "    </tr>\n",
       "    <tr>\n",
       "      <th>OrthogonalMatchingPursuitCV</th>\n",
       "      <td>1.00</td>\n",
       "      <td>1.00</td>\n",
       "      <td>0.00</td>\n",
       "      <td>0.01</td>\n",
       "    </tr>\n",
       "    <tr>\n",
       "      <th>BayesianRidge</th>\n",
       "      <td>1.00</td>\n",
       "      <td>1.00</td>\n",
       "      <td>0.00</td>\n",
       "      <td>0.03</td>\n",
       "    </tr>\n",
       "    <tr>\n",
       "      <th>LinearRegression</th>\n",
       "      <td>1.00</td>\n",
       "      <td>1.00</td>\n",
       "      <td>0.00</td>\n",
       "      <td>0.01</td>\n",
       "    </tr>\n",
       "    <tr>\n",
       "      <th>OrthogonalMatchingPursuit</th>\n",
       "      <td>1.00</td>\n",
       "      <td>1.00</td>\n",
       "      <td>0.00</td>\n",
       "      <td>0.01</td>\n",
       "    </tr>\n",
       "    <tr>\n",
       "      <th>TransformedTargetRegressor</th>\n",
       "      <td>1.00</td>\n",
       "      <td>1.00</td>\n",
       "      <td>0.00</td>\n",
       "      <td>0.06</td>\n",
       "    </tr>\n",
       "    <tr>\n",
       "      <th>LarsCV</th>\n",
       "      <td>1.00</td>\n",
       "      <td>1.00</td>\n",
       "      <td>0.00</td>\n",
       "      <td>0.02</td>\n",
       "    </tr>\n",
       "    <tr>\n",
       "      <th>Lars</th>\n",
       "      <td>1.00</td>\n",
       "      <td>1.00</td>\n",
       "      <td>0.00</td>\n",
       "      <td>0.01</td>\n",
       "    </tr>\n",
       "    <tr>\n",
       "      <th>LassoLarsIC</th>\n",
       "      <td>1.00</td>\n",
       "      <td>1.00</td>\n",
       "      <td>0.00</td>\n",
       "      <td>0.01</td>\n",
       "    </tr>\n",
       "    <tr>\n",
       "      <th>RANSACRegressor</th>\n",
       "      <td>1.00</td>\n",
       "      <td>1.00</td>\n",
       "      <td>0.00</td>\n",
       "      <td>0.02</td>\n",
       "    </tr>\n",
       "    <tr>\n",
       "      <th>HuberRegressor</th>\n",
       "      <td>1.00</td>\n",
       "      <td>1.00</td>\n",
       "      <td>0.00</td>\n",
       "      <td>0.06</td>\n",
       "    </tr>\n",
       "    <tr>\n",
       "      <th>PassiveAggressiveRegressor</th>\n",
       "      <td>1.00</td>\n",
       "      <td>1.00</td>\n",
       "      <td>7.97</td>\n",
       "      <td>0.03</td>\n",
       "    </tr>\n",
       "    <tr>\n",
       "      <th>RidgeCV</th>\n",
       "      <td>1.00</td>\n",
       "      <td>1.00</td>\n",
       "      <td>8.91</td>\n",
       "      <td>0.01</td>\n",
       "    </tr>\n",
       "    <tr>\n",
       "      <th>RandomForestRegressor</th>\n",
       "      <td>1.00</td>\n",
       "      <td>1.00</td>\n",
       "      <td>15.52</td>\n",
       "      <td>0.41</td>\n",
       "    </tr>\n",
       "    <tr>\n",
       "      <th>ExtraTreesRegressor</th>\n",
       "      <td>1.00</td>\n",
       "      <td>1.00</td>\n",
       "      <td>16.82</td>\n",
       "      <td>0.27</td>\n",
       "    </tr>\n",
       "    <tr>\n",
       "      <th>BaggingRegressor</th>\n",
       "      <td>1.00</td>\n",
       "      <td>1.00</td>\n",
       "      <td>18.03</td>\n",
       "      <td>0.05</td>\n",
       "    </tr>\n",
       "    <tr>\n",
       "      <th>DecisionTreeRegressor</th>\n",
       "      <td>1.00</td>\n",
       "      <td>1.00</td>\n",
       "      <td>22.34</td>\n",
       "      <td>0.01</td>\n",
       "    </tr>\n",
       "    <tr>\n",
       "      <th>GradientBoostingRegressor</th>\n",
       "      <td>1.00</td>\n",
       "      <td>1.00</td>\n",
       "      <td>25.99</td>\n",
       "      <td>0.19</td>\n",
       "    </tr>\n",
       "    <tr>\n",
       "      <th>XGBRegressor</th>\n",
       "      <td>1.00</td>\n",
       "      <td>1.00</td>\n",
       "      <td>29.84</td>\n",
       "      <td>0.31</td>\n",
       "    </tr>\n",
       "    <tr>\n",
       "      <th>Ridge</th>\n",
       "      <td>1.00</td>\n",
       "      <td>1.00</td>\n",
       "      <td>30.12</td>\n",
       "      <td>0.01</td>\n",
       "    </tr>\n",
       "    <tr>\n",
       "      <th>ExtraTreeRegressor</th>\n",
       "      <td>1.00</td>\n",
       "      <td>1.00</td>\n",
       "      <td>32.17</td>\n",
       "      <td>0.01</td>\n",
       "    </tr>\n",
       "    <tr>\n",
       "      <th>LassoLars</th>\n",
       "      <td>1.00</td>\n",
       "      <td>1.00</td>\n",
       "      <td>38.31</td>\n",
       "      <td>0.01</td>\n",
       "    </tr>\n",
       "    <tr>\n",
       "      <th>LGBMRegressor</th>\n",
       "      <td>1.00</td>\n",
       "      <td>1.00</td>\n",
       "      <td>43.03</td>\n",
       "      <td>0.10</td>\n",
       "    </tr>\n",
       "    <tr>\n",
       "      <th>SGDRegressor</th>\n",
       "      <td>1.00</td>\n",
       "      <td>1.00</td>\n",
       "      <td>44.54</td>\n",
       "      <td>0.04</td>\n",
       "    </tr>\n",
       "    <tr>\n",
       "      <th>HistGradientBoostingRegressor</th>\n",
       "      <td>1.00</td>\n",
       "      <td>1.00</td>\n",
       "      <td>44.63</td>\n",
       "      <td>0.49</td>\n",
       "    </tr>\n",
       "    <tr>\n",
       "      <th>Lasso</th>\n",
       "      <td>1.00</td>\n",
       "      <td>1.00</td>\n",
       "      <td>51.78</td>\n",
       "      <td>0.01</td>\n",
       "    </tr>\n",
       "    <tr>\n",
       "      <th>LassoCV</th>\n",
       "      <td>1.00</td>\n",
       "      <td>1.00</td>\n",
       "      <td>52.02</td>\n",
       "      <td>0.07</td>\n",
       "    </tr>\n",
       "    <tr>\n",
       "      <th>KNeighborsRegressor</th>\n",
       "      <td>1.00</td>\n",
       "      <td>1.00</td>\n",
       "      <td>120.17</td>\n",
       "      <td>0.01</td>\n",
       "    </tr>\n",
       "    <tr>\n",
       "      <th>GaussianProcessRegressor</th>\n",
       "      <td>1.00</td>\n",
       "      <td>1.00</td>\n",
       "      <td>233.79</td>\n",
       "      <td>0.22</td>\n",
       "    </tr>\n",
       "    <tr>\n",
       "      <th>AdaBoostRegressor</th>\n",
       "      <td>0.99</td>\n",
       "      <td>0.99</td>\n",
       "      <td>248.26</td>\n",
       "      <td>0.10</td>\n",
       "    </tr>\n",
       "    <tr>\n",
       "      <th>PoissonRegressor</th>\n",
       "      <td>0.99</td>\n",
       "      <td>0.99</td>\n",
       "      <td>322.28</td>\n",
       "      <td>0.02</td>\n",
       "    </tr>\n",
       "    <tr>\n",
       "      <th>ElasticNet</th>\n",
       "      <td>0.99</td>\n",
       "      <td>0.99</td>\n",
       "      <td>385.34</td>\n",
       "      <td>0.02</td>\n",
       "    </tr>\n",
       "    <tr>\n",
       "      <th>TweedieRegressor</th>\n",
       "      <td>0.96</td>\n",
       "      <td>0.96</td>\n",
       "      <td>684.91</td>\n",
       "      <td>0.01</td>\n",
       "    </tr>\n",
       "    <tr>\n",
       "      <th>GammaRegressor</th>\n",
       "      <td>0.95</td>\n",
       "      <td>0.95</td>\n",
       "      <td>733.12</td>\n",
       "      <td>0.02</td>\n",
       "    </tr>\n",
       "    <tr>\n",
       "      <th>ElasticNetCV</th>\n",
       "      <td>0.79</td>\n",
       "      <td>0.79</td>\n",
       "      <td>1545.44</td>\n",
       "      <td>0.06</td>\n",
       "    </tr>\n",
       "    <tr>\n",
       "      <th>NuSVR</th>\n",
       "      <td>0.12</td>\n",
       "      <td>0.12</td>\n",
       "      <td>3181.18</td>\n",
       "      <td>0.13</td>\n",
       "    </tr>\n",
       "    <tr>\n",
       "      <th>SVR</th>\n",
       "      <td>0.10</td>\n",
       "      <td>0.11</td>\n",
       "      <td>3205.69</td>\n",
       "      <td>0.13</td>\n",
       "    </tr>\n",
       "    <tr>\n",
       "      <th>DummyRegressor</th>\n",
       "      <td>-0.01</td>\n",
       "      <td>-0.00</td>\n",
       "      <td>3401.54</td>\n",
       "      <td>0.01</td>\n",
       "    </tr>\n",
       "    <tr>\n",
       "      <th>QuantileRegressor</th>\n",
       "      <td>-0.06</td>\n",
       "      <td>-0.05</td>\n",
       "      <td>3489.81</td>\n",
       "      <td>83.78</td>\n",
       "    </tr>\n",
       "    <tr>\n",
       "      <th>LinearSVR</th>\n",
       "      <td>-9.12</td>\n",
       "      <td>-9.04</td>\n",
       "      <td>10771.08</td>\n",
       "      <td>0.01</td>\n",
       "    </tr>\n",
       "    <tr>\n",
       "      <th>MLPRegressor</th>\n",
       "      <td>-10.11</td>\n",
       "      <td>-10.01</td>\n",
       "      <td>11282.82</td>\n",
       "      <td>1.32</td>\n",
       "    </tr>\n",
       "    <tr>\n",
       "      <th>KernelRidge</th>\n",
       "      <td>-11.02</td>\n",
       "      <td>-10.92</td>\n",
       "      <td>11738.91</td>\n",
       "      <td>0.07</td>\n",
       "    </tr>\n",
       "  </tbody>\n",
       "</table>\n",
       "</div>"
      ],
      "text/plain": [
       "                               Adjusted R-Squared  R-Squared     RMSE  \\\n",
       "Model                                                                   \n",
       "LassoLarsCV                                  1.00       1.00     0.00   \n",
       "OrthogonalMatchingPursuitCV                  1.00       1.00     0.00   \n",
       "BayesianRidge                                1.00       1.00     0.00   \n",
       "LinearRegression                             1.00       1.00     0.00   \n",
       "OrthogonalMatchingPursuit                    1.00       1.00     0.00   \n",
       "TransformedTargetRegressor                   1.00       1.00     0.00   \n",
       "LarsCV                                       1.00       1.00     0.00   \n",
       "Lars                                         1.00       1.00     0.00   \n",
       "LassoLarsIC                                  1.00       1.00     0.00   \n",
       "RANSACRegressor                              1.00       1.00     0.00   \n",
       "HuberRegressor                               1.00       1.00     0.00   \n",
       "PassiveAggressiveRegressor                   1.00       1.00     7.97   \n",
       "RidgeCV                                      1.00       1.00     8.91   \n",
       "RandomForestRegressor                        1.00       1.00    15.52   \n",
       "ExtraTreesRegressor                          1.00       1.00    16.82   \n",
       "BaggingRegressor                             1.00       1.00    18.03   \n",
       "DecisionTreeRegressor                        1.00       1.00    22.34   \n",
       "GradientBoostingRegressor                    1.00       1.00    25.99   \n",
       "XGBRegressor                                 1.00       1.00    29.84   \n",
       "Ridge                                        1.00       1.00    30.12   \n",
       "ExtraTreeRegressor                           1.00       1.00    32.17   \n",
       "LassoLars                                    1.00       1.00    38.31   \n",
       "LGBMRegressor                                1.00       1.00    43.03   \n",
       "SGDRegressor                                 1.00       1.00    44.54   \n",
       "HistGradientBoostingRegressor                1.00       1.00    44.63   \n",
       "Lasso                                        1.00       1.00    51.78   \n",
       "LassoCV                                      1.00       1.00    52.02   \n",
       "KNeighborsRegressor                          1.00       1.00   120.17   \n",
       "GaussianProcessRegressor                     1.00       1.00   233.79   \n",
       "AdaBoostRegressor                            0.99       0.99   248.26   \n",
       "PoissonRegressor                             0.99       0.99   322.28   \n",
       "ElasticNet                                   0.99       0.99   385.34   \n",
       "TweedieRegressor                             0.96       0.96   684.91   \n",
       "GammaRegressor                               0.95       0.95   733.12   \n",
       "ElasticNetCV                                 0.79       0.79  1545.44   \n",
       "NuSVR                                        0.12       0.12  3181.18   \n",
       "SVR                                          0.10       0.11  3205.69   \n",
       "DummyRegressor                              -0.01      -0.00  3401.54   \n",
       "QuantileRegressor                           -0.06      -0.05  3489.81   \n",
       "LinearSVR                                   -9.12      -9.04 10771.08   \n",
       "MLPRegressor                               -10.11     -10.01 11282.82   \n",
       "KernelRidge                                -11.02     -10.92 11738.91   \n",
       "\n",
       "                               Time Taken  \n",
       "Model                                      \n",
       "LassoLarsCV                          0.01  \n",
       "OrthogonalMatchingPursuitCV          0.01  \n",
       "BayesianRidge                        0.03  \n",
       "LinearRegression                     0.01  \n",
       "OrthogonalMatchingPursuit            0.01  \n",
       "TransformedTargetRegressor           0.06  \n",
       "LarsCV                               0.02  \n",
       "Lars                                 0.01  \n",
       "LassoLarsIC                          0.01  \n",
       "RANSACRegressor                      0.02  \n",
       "HuberRegressor                       0.06  \n",
       "PassiveAggressiveRegressor           0.03  \n",
       "RidgeCV                              0.01  \n",
       "RandomForestRegressor                0.41  \n",
       "ExtraTreesRegressor                  0.27  \n",
       "BaggingRegressor                     0.05  \n",
       "DecisionTreeRegressor                0.01  \n",
       "GradientBoostingRegressor            0.19  \n",
       "XGBRegressor                         0.31  \n",
       "Ridge                                0.01  \n",
       "ExtraTreeRegressor                   0.01  \n",
       "LassoLars                            0.01  \n",
       "LGBMRegressor                        0.10  \n",
       "SGDRegressor                         0.04  \n",
       "HistGradientBoostingRegressor        0.49  \n",
       "Lasso                                0.01  \n",
       "LassoCV                              0.07  \n",
       "KNeighborsRegressor                  0.01  \n",
       "GaussianProcessRegressor             0.22  \n",
       "AdaBoostRegressor                    0.10  \n",
       "PoissonRegressor                     0.02  \n",
       "ElasticNet                           0.02  \n",
       "TweedieRegressor                     0.01  \n",
       "GammaRegressor                       0.02  \n",
       "ElasticNetCV                         0.06  \n",
       "NuSVR                                0.13  \n",
       "SVR                                  0.13  \n",
       "DummyRegressor                       0.01  \n",
       "QuantileRegressor                   83.78  \n",
       "LinearSVR                            0.01  \n",
       "MLPRegressor                         1.32  \n",
       "KernelRidge                          0.07  "
      ]
     },
     "execution_count": 230,
     "metadata": {},
     "output_type": "execute_result"
    }
   ],
   "source": [
    "predictions"
   ]
  }
 ],
 "metadata": {
  "kernelspec": {
   "display_name": "Python 3 (ipykernel)",
   "language": "python",
   "name": "python3"
  },
  "language_info": {
   "codemirror_mode": {
    "name": "ipython",
    "version": 3
   },
   "file_extension": ".py",
   "mimetype": "text/x-python",
   "name": "python",
   "nbconvert_exporter": "python",
   "pygments_lexer": "ipython3",
   "version": "3.7.9"
  },
  "orig_nbformat": 4,
  "vscode": {
   "interpreter": {
    "hash": "49bc092b7a0715ff645a8492b0622b50e44a19998b2bf7126af3cfc291232611"
   }
  }
 },
 "nbformat": 4,
 "nbformat_minor": 2
}
